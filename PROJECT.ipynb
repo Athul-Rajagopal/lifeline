{
  "nbformat": 4,
  "nbformat_minor": 0,
  "metadata": {
    "accelerator": "GPU",
    "colab": {
      "name": "PROJECT.ipynb",
      "provenance": [],
      "collapsed_sections": [],
      "mount_file_id": "1IoEXWkYuF82G1QpCVuaaKrMx5cApn3GD",
      "authorship_tag": "ABX9TyPjHszsDWR8ejOZb1OiY5Ga",
      "include_colab_link": true
    },
    "kernelspec": {
      "display_name": "Python 3",
      "name": "python3"
    },
    "language_info": {
      "name": "python"
    }
  },
  "cells": [
    {
      "cell_type": "markdown",
      "metadata": {
        "id": "view-in-github",
        "colab_type": "text"
      },
      "source": [
        "<a href=\"https://colab.research.google.com/github/Athul-Rajagopal/lifeline/blob/main/PROJECT.ipynb\" target=\"_parent\"><img src=\"https://colab.research.google.com/assets/colab-badge.svg\" alt=\"Open In Colab\"/></a>"
      ]
    },
    {
      "cell_type": "code",
      "metadata": {
        "id": "Rd6BUuZknpoY"
      },
      "source": [
        "import numpy as np\n",
        "import tensorflow \n",
        "from glob import glob\n",
        "from tensorflow.keras.preprocessing.image import ImageDataGenerator,load_img\n",
        "from tensorflow.compat.v1 import ConfigProto,InteractiveSession"
      ],
      "execution_count": null,
      "outputs": []
    },
    {
      "cell_type": "code",
      "metadata": {
        "id": "kOmq_ifzptVT"
      },
      "source": [
        "config= ConfigProto()\n",
        "config.gpu_options.per_process_gpu_memory_fraction = 0.8\n",
        "config.gpu_options.allow_growth = True\n",
        "sessions= InteractiveSession(config=config)"
      ],
      "execution_count": null,
      "outputs": []
    },
    {
      "cell_type": "code",
      "metadata": {
        "colab": {
          "base_uri": "https://localhost:8080/"
        },
        "id": "tIeYFTTRPM9M",
        "outputId": "d34953e6-a736-4e3c-d40a-880db7642647"
      },
      "source": [
        "!nvidia-smi"
      ],
      "execution_count": null,
      "outputs": [
        {
          "output_type": "stream",
          "text": [
            "Sun Jun 13 10:22:30 2021       \n",
            "+-----------------------------------------------------------------------------+\n",
            "| NVIDIA-SMI 465.27       Driver Version: 460.32.03    CUDA Version: 11.2     |\n",
            "|-------------------------------+----------------------+----------------------+\n",
            "| GPU  Name        Persistence-M| Bus-Id        Disp.A | Volatile Uncorr. ECC |\n",
            "| Fan  Temp  Perf  Pwr:Usage/Cap|         Memory-Usage | GPU-Util  Compute M. |\n",
            "|                               |                      |               MIG M. |\n",
            "|===============================+======================+======================|\n",
            "|   0  Tesla T4            Off  | 00000000:00:04.0 Off |                    0 |\n",
            "| N/A   60C    P0    30W /  70W |    222MiB / 15109MiB |      0%      Default |\n",
            "|                               |                      |                  N/A |\n",
            "+-------------------------------+----------------------+----------------------+\n",
            "                                                                               \n",
            "+-----------------------------------------------------------------------------+\n",
            "| Processes:                                                                  |\n",
            "|  GPU   GI   CI        PID   Type   Process name                  GPU Memory |\n",
            "|        ID   ID                                                   Usage      |\n",
            "|=============================================================================|\n",
            "+-----------------------------------------------------------------------------+\n"
          ],
          "name": "stdout"
        }
      ]
    },
    {
      "cell_type": "code",
      "metadata": {
        "id": "BXcs3nouqabV"
      },
      "source": [
        "from tensorflow.keras.applications.vgg19 import VGG19,preprocess_input,decode_predictions\n",
        "from tensorflow.keras import Sequential\n",
        "from tensorflow.keras.layers import Dense,Flatten\n",
        "from tensorflow.keras.losses import SparseCategoricalCrossentropy\n",
        "from tensorflow.keras.optimizers import Adam\n",
        "from tensorflow.keras.models import Model"
      ],
      "execution_count": null,
      "outputs": []
    },
    {
      "cell_type": "code",
      "metadata": {
        "colab": {
          "base_uri": "https://localhost:8080/"
        },
        "id": "WqLeFCC2wAoS",
        "outputId": "87d3c3ed-e10d-43d0-8905-50b6a70ab4c3"
      },
      "source": [
        "vgg19=VGG19(input_shape=[224,224,3],include_top=False,weights='imagenet')"
      ],
      "execution_count": null,
      "outputs": [
        {
          "output_type": "stream",
          "text": [
            "Downloading data from https://storage.googleapis.com/tensorflow/keras-applications/vgg19/vgg19_weights_tf_dim_ordering_tf_kernels_notop.h5\n",
            "80142336/80134624 [==============================] - 1s 0us/step\n"
          ],
          "name": "stdout"
        }
      ]
    },
    {
      "cell_type": "code",
      "metadata": {
        "id": "IG85-RO6wUtD"
      },
      "source": [
        "for layers in vgg19.layers:\n",
        "    layers.trainable=False"
      ],
      "execution_count": null,
      "outputs": []
    },
    {
      "cell_type": "code",
      "metadata": {
        "id": "AOsdXqbTwoMU"
      },
      "source": [
        "train_path='/content/drive/MyDrive/programme files/DSmajorPROJECT/TRAIN'\n",
        "test_path='/content/drive/MyDrive/programme files/DSmajorPROJECT/TEST'"
      ],
      "execution_count": null,
      "outputs": []
    },
    {
      "cell_type": "code",
      "metadata": {
        "colab": {
          "base_uri": "https://localhost:8080/"
        },
        "id": "KRP8Q_qcw_-E",
        "outputId": "42baccd5-1da5-483c-d744-991212278207"
      },
      "source": [
        "folder=glob(str(train_path)+'/*')\n",
        "folder"
      ],
      "execution_count": null,
      "outputs": [
        {
          "output_type": "execute_result",
          "data": {
            "text/plain": [
              "['/content/drive/MyDrive/programme files/DSmajorPROJECT/TRAIN/Scabies',\n",
              " '/content/drive/MyDrive/programme files/DSmajorPROJECT/TRAIN/Wart',\n",
              " '/content/drive/MyDrive/programme files/DSmajorPROJECT/TRAIN/Psoriasis',\n",
              " '/content/drive/MyDrive/programme files/DSmajorPROJECT/TRAIN/Hives',\n",
              " '/content/drive/MyDrive/programme files/DSmajorPROJECT/TRAIN/Seborrhic kertosis',\n",
              " '/content/drive/MyDrive/programme files/DSmajorPROJECT/TRAIN/Nevus',\n",
              " '/content/drive/MyDrive/programme files/DSmajorPROJECT/TRAIN/Melanoma',\n",
              " '/content/drive/MyDrive/programme files/DSmajorPROJECT/TRAIN/Acne',\n",
              " '/content/drive/MyDrive/programme files/DSmajorPROJECT/TRAIN/Contact dermatitis',\n",
              " '/content/drive/MyDrive/programme files/DSmajorPROJECT/TRAIN/Ringworm']"
            ]
          },
          "metadata": {
            "tags": []
          },
          "execution_count": 8
        }
      ]
    },
    {
      "cell_type": "code",
      "metadata": {
        "id": "cyvUqeyAxGO6"
      },
      "source": [
        "\n",
        "x=Flatten()(vgg19.output)\n",
        "x1=Dense(231,activation='relu')(x)\n",
        "outlayer=Dense(11,activation='softmax')(x1)\n",
        "\n",
        "model=Model(inputs=vgg19.input,outputs=outlayer)"
      ],
      "execution_count": null,
      "outputs": []
    },
    {
      "cell_type": "code",
      "metadata": {
        "colab": {
          "base_uri": "https://localhost:8080/"
        },
        "id": "7Cmm8u5Jyo3Z",
        "outputId": "09126604-4213-47e7-b813-e2a4d1e96643"
      },
      "source": [
        "model.summary()"
      ],
      "execution_count": null,
      "outputs": [
        {
          "output_type": "stream",
          "text": [
            "Model: \"model\"\n",
            "_________________________________________________________________\n",
            "Layer (type)                 Output Shape              Param #   \n",
            "=================================================================\n",
            "input_1 (InputLayer)         [(None, 224, 224, 3)]     0         \n",
            "_________________________________________________________________\n",
            "block1_conv1 (Conv2D)        (None, 224, 224, 64)      1792      \n",
            "_________________________________________________________________\n",
            "block1_conv2 (Conv2D)        (None, 224, 224, 64)      36928     \n",
            "_________________________________________________________________\n",
            "block1_pool (MaxPooling2D)   (None, 112, 112, 64)      0         \n",
            "_________________________________________________________________\n",
            "block2_conv1 (Conv2D)        (None, 112, 112, 128)     73856     \n",
            "_________________________________________________________________\n",
            "block2_conv2 (Conv2D)        (None, 112, 112, 128)     147584    \n",
            "_________________________________________________________________\n",
            "block2_pool (MaxPooling2D)   (None, 56, 56, 128)       0         \n",
            "_________________________________________________________________\n",
            "block3_conv1 (Conv2D)        (None, 56, 56, 256)       295168    \n",
            "_________________________________________________________________\n",
            "block3_conv2 (Conv2D)        (None, 56, 56, 256)       590080    \n",
            "_________________________________________________________________\n",
            "block3_conv3 (Conv2D)        (None, 56, 56, 256)       590080    \n",
            "_________________________________________________________________\n",
            "block3_conv4 (Conv2D)        (None, 56, 56, 256)       590080    \n",
            "_________________________________________________________________\n",
            "block3_pool (MaxPooling2D)   (None, 28, 28, 256)       0         \n",
            "_________________________________________________________________\n",
            "block4_conv1 (Conv2D)        (None, 28, 28, 512)       1180160   \n",
            "_________________________________________________________________\n",
            "block4_conv2 (Conv2D)        (None, 28, 28, 512)       2359808   \n",
            "_________________________________________________________________\n",
            "block4_conv3 (Conv2D)        (None, 28, 28, 512)       2359808   \n",
            "_________________________________________________________________\n",
            "block4_conv4 (Conv2D)        (None, 28, 28, 512)       2359808   \n",
            "_________________________________________________________________\n",
            "block4_pool (MaxPooling2D)   (None, 14, 14, 512)       0         \n",
            "_________________________________________________________________\n",
            "block5_conv1 (Conv2D)        (None, 14, 14, 512)       2359808   \n",
            "_________________________________________________________________\n",
            "block5_conv2 (Conv2D)        (None, 14, 14, 512)       2359808   \n",
            "_________________________________________________________________\n",
            "block5_conv3 (Conv2D)        (None, 14, 14, 512)       2359808   \n",
            "_________________________________________________________________\n",
            "block5_conv4 (Conv2D)        (None, 14, 14, 512)       2359808   \n",
            "_________________________________________________________________\n",
            "block5_pool (MaxPooling2D)   (None, 7, 7, 512)         0         \n",
            "_________________________________________________________________\n",
            "flatten (Flatten)            (None, 25088)             0         \n",
            "_________________________________________________________________\n",
            "dense (Dense)                (None, 231)               5795559   \n",
            "_________________________________________________________________\n",
            "dense_1 (Dense)              (None, 11)                2552      \n",
            "=================================================================\n",
            "Total params: 25,822,495\n",
            "Trainable params: 5,798,111\n",
            "Non-trainable params: 20,024,384\n",
            "_________________________________________________________________\n"
          ],
          "name": "stdout"
        }
      ]
    },
    {
      "cell_type": "code",
      "metadata": {
        "id": "9WthTmifyssI"
      },
      "source": [
        "model.compile(optimizer=Adam(),loss=SparseCategoricalCrossentropy(),metrics=['accuracy'])"
      ],
      "execution_count": null,
      "outputs": []
    },
    {
      "cell_type": "code",
      "metadata": {
        "id": "hHjsYk1B0RTe"
      },
      "source": [
        "\n",
        "train_datagen= ImageDataGenerator(rescale=1/255)\n",
        "\n",
        "test_datagen=ImageDataGenerator(rescale=1/255)"
      ],
      "execution_count": null,
      "outputs": []
    },
    {
      "cell_type": "code",
      "metadata": {
        "colab": {
          "base_uri": "https://localhost:8080/"
        },
        "id": "8Tdq43kS07T2",
        "outputId": "777d06df-cce6-4bd6-a38c-a3d8e53aacfe"
      },
      "source": [
        "'''preprocessing training data using Image_data_Generator,\n",
        "pass the full data in the given directory to imagedatagenerator and applying parameters.\n",
        "\n",
        "\n",
        "'''\n",
        "\n",
        "\n",
        "training_data=train_datagen.flow_from_directory('/content/drive/MyDrive/programme files/DSmajorPROJECT/TRAIN',target_size=(224,224),\n",
        "                                                class_mode='sparse',batch_size=16)\n",
        "\n"
      ],
      "execution_count": null,
      "outputs": [
        {
          "output_type": "stream",
          "text": [
            "Found 10279 images belonging to 10 classes.\n"
          ],
          "name": "stdout"
        }
      ]
    },
    {
      "cell_type": "code",
      "metadata": {
        "colab": {
          "base_uri": "https://localhost:8080/"
        },
        "id": "1LUv544V1rB0",
        "outputId": "1d0ff745-0e78-4adf-b832-cc2fe3d87be9"
      },
      "source": [
        "testing_data=test_datagen.flow_from_directory('/content/drive/MyDrive/programme files/DSmajorPROJECT/TEST',target_size=(224,224),\n",
        "                                              batch_size=16,\n",
        "                                              class_mode='sparse')"
      ],
      "execution_count": null,
      "outputs": [
        {
          "output_type": "stream",
          "text": [
            "Found 1939 images belonging to 10 classes.\n"
          ],
          "name": "stdout"
        }
      ]
    },
    {
      "cell_type": "code",
      "metadata": {
        "colab": {
          "base_uri": "https://localhost:8080/"
        },
        "id": "3f_KBhs0MAew",
        "outputId": "8bb57d4c-201d-4377-c13a-489f74fdcf8d"
      },
      "source": [
        "training_data.class_indices, testing_data.class_indices"
      ],
      "execution_count": null,
      "outputs": [
        {
          "output_type": "execute_result",
          "data": {
            "text/plain": [
              "({'Acne': 0,\n",
              "  'Contact dermatitis': 1,\n",
              "  'Hives': 2,\n",
              "  'Melanoma': 3,\n",
              "  'Nevus': 4,\n",
              "  'Psoriasis': 5,\n",
              "  'Ringworm': 6,\n",
              "  'Scabies': 7,\n",
              "  'Seborrhic kertosis': 8,\n",
              "  'Wart': 9},\n",
              " {'Acne': 0,\n",
              "  'Contact dermatitis': 1,\n",
              "  'Hives': 2,\n",
              "  'Melanoma': 3,\n",
              "  'Nevus': 4,\n",
              "  'Psoriasis': 5,\n",
              "  'Ring worm': 6,\n",
              "  'Scabies': 7,\n",
              "  'Seborrhic kertosis': 8,\n",
              "  'Wart': 9})"
            ]
          },
          "metadata": {
            "tags": []
          },
          "execution_count": 15
        }
      ]
    },
    {
      "cell_type": "code",
      "metadata": {
        "id": "fb529z6Cv04C",
        "colab": {
          "base_uri": "https://localhost:8080/"
        },
        "outputId": "82eb3e2f-1abe-43b7-8239-b2d7d2337f54"
      },
      "source": [
        "training_data.classes.shape"
      ],
      "execution_count": null,
      "outputs": [
        {
          "output_type": "execute_result",
          "data": {
            "text/plain": [
              "(10279,)"
            ]
          },
          "metadata": {
            "tags": []
          },
          "execution_count": 16
        }
      ]
    },
    {
      "cell_type": "code",
      "metadata": {
        "colab": {
          "base_uri": "https://localhost:8080/"
        },
        "id": "a9KZlFEP18Mk",
        "outputId": "6bfd382e-9117-4833-e092-8fb2a1d19903"
      },
      "source": [
        "res= model.fit(training_data,steps_per_epoch=len(training_data),epochs=10,verbose=1,validation_data=testing_data,validation_steps=len(testing_data))"
      ],
      "execution_count": null,
      "outputs": [
        {
          "output_type": "stream",
          "text": [
            "Epoch 1/10\n",
            "643/643 [==============================] - 3473s 5s/step - loss: 1.8046 - accuracy: 0.4082 - val_loss: 1.5359 - val_accuracy: 0.5106\n",
            "Epoch 2/10\n",
            "643/643 [==============================] - 76s 119ms/step - loss: 1.1721 - accuracy: 0.6037 - val_loss: 1.1879 - val_accuracy: 0.6225\n",
            "Epoch 3/10\n",
            "643/643 [==============================] - 77s 120ms/step - loss: 0.8695 - accuracy: 0.7213 - val_loss: 1.0363 - val_accuracy: 0.6478\n",
            "Epoch 4/10\n",
            "643/643 [==============================] - 78s 121ms/step - loss: 0.6728 - accuracy: 0.7847 - val_loss: 0.8992 - val_accuracy: 0.7241\n",
            "Epoch 5/10\n",
            "643/643 [==============================] - 79s 123ms/step - loss: 0.5523 - accuracy: 0.8239 - val_loss: 0.8200 - val_accuracy: 0.7442\n",
            "Epoch 6/10\n",
            "643/643 [==============================] - 78s 121ms/step - loss: 0.4428 - accuracy: 0.8586 - val_loss: 0.9989 - val_accuracy: 0.7117\n",
            "Epoch 7/10\n",
            "643/643 [==============================] - 78s 121ms/step - loss: 0.4019 - accuracy: 0.8734 - val_loss: 0.7317 - val_accuracy: 0.7839\n",
            "Epoch 8/10\n",
            "643/643 [==============================] - 78s 121ms/step - loss: 0.3170 - accuracy: 0.9011 - val_loss: 0.8982 - val_accuracy: 0.7870\n",
            "Epoch 9/10\n",
            "643/643 [==============================] - 78s 121ms/step - loss: 0.2907 - accuracy: 0.9063 - val_loss: 0.8889 - val_accuracy: 0.7891\n",
            "Epoch 10/10\n",
            "643/643 [==============================] - 78s 122ms/step - loss: 0.2854 - accuracy: 0.9086 - val_loss: 0.7980 - val_accuracy: 0.8154\n"
          ],
          "name": "stdout"
        }
      ]
    },
    {
      "cell_type": "code",
      "metadata": {
        "id": "ZEXNbQBJrdf3"
      },
      "source": [
        "import matplotlib.pyplot as plt\n"
      ],
      "execution_count": null,
      "outputs": []
    },
    {
      "cell_type": "code",
      "metadata": {
        "id": "HTC-E4F1v9eF",
        "colab": {
          "base_uri": "https://localhost:8080/",
          "height": 294
        },
        "outputId": "bd49ef42-993d-4b86-fcdb-fd6e6f3fece8"
      },
      "source": [
        "plt.plot(res.history['accuracy'],label='Accuracy')\n",
        "plt.plot(res.history['val_accuracy'],label='validation')\n",
        "plt.legend()\n",
        "plt.xlabel('epochs')\n",
        "plt.ylabel('val data')\n",
        "plt.title('accuracy')\n",
        "plt.show()\n"
      ],
      "execution_count": null,
      "outputs": [
        {
          "output_type": "display_data",
          "data": {
            "image/png": "[encoded data removed]",
            "text/plain": [
              "<Figure size 432x288 with 1 Axes>"
            ]
          },
          "metadata": {
            "tags": [],
            "needs_background": "light"
          }
        }
      ]
    },
    {
      "cell_type": "code",
      "metadata": {
        "colab": {
          "base_uri": "https://localhost:8080/",
          "height": 294
        },
        "id": "kaaa19WBfsR5",
        "outputId": "552e12d1-78b7-4157-c2d5-e33043000dde"
      },
      "source": [
        "plt.plot(res.history['loss'],label='loss')\n",
        "plt.plot(res.history['val_loss'],label='validation')\n",
        "plt.title('loss')\n",
        "plt.xlabel('epochs')\n",
        "plt.ylabel('validation')\n",
        "plt.legend()\n",
        "plt.show()"
      ],
      "execution_count": null,
      "outputs": [
        {
          "output_type": "display_data",
          "data": {
            "image/png": "[encoded data removed]",
            "text/plain": [
              "<Figure size 432x288 with 1 Axes>"
            ]
          },
          "metadata": {
            "tags": [],
            "needs_background": "light"
          }
        }
      ]
    },
    {
      "cell_type": "code",
      "metadata": {
        "id": "Hm6G0b2sr97W"
      },
      "source": [
        "from sklearn.metrics import confusion_matrix"
      ],
      "execution_count": null,
      "outputs": []
    },
    {
      "cell_type": "code",
      "metadata": {
        "id": "B5X6iodRyQl9"
      },
      "source": [
        "from tensorflow.keras.preprocessing import image\n",
        "from tensorflow.keras.preprocessing.image import load_img,img_to_array"
      ],
      "execution_count": null,
      "outputs": []
    },
    {
      "cell_type": "code",
      "metadata": {
        "id": "lOyQ3J-Yzn-J"
      },
      "source": [
        "img=load_img(\"/content/download (2).jpg\",target_size=(224,224))"
      ],
      "execution_count": null,
      "outputs": []
    },
    {
      "cell_type": "code",
      "metadata": {
        "colab": {
          "base_uri": "https://localhost:8080/",
          "height": 286
        },
        "id": "G62_n9ETJ-C2",
        "outputId": "6645270b-509e-4693-d0c8-1fcff048c8f6"
      },
      "source": [
        "plt.imshow(img)"
      ],
      "execution_count": null,
      "outputs": [
        {
          "output_type": "execute_result",
          "data": {
            "text/plain": [
              "<matplotlib.image.AxesImage at 0x7fcbb60d6b50>"
            ]
          },
          "metadata": {
            "tags": []
          },
          "execution_count": 25
        },
        {
          "output_type": "display_data",
          "data": {
            "image/png": "[encoded data removed]",
            "text/plain": [
              "<Figure size 432x288 with 1 Axes>"
            ]
          },
          "metadata": {
            "tags": [],
            "needs_background": "light"
          }
        }
      ]
    },
    {
      "cell_type": "code",
      "metadata": {
        "id": "qlkyD805zuJm"
      },
      "source": [
        "img=img_to_array(img).reshape(1,224,224,3)"
      ],
      "execution_count": null,
      "outputs": []
    },
    {
      "cell_type": "code",
      "metadata": {
        "colab": {
          "base_uri": "https://localhost:8080/"
        },
        "id": "z7zO6LBez9EP",
        "outputId": "49d179a1-ad09-4920-ad4d-67198f6cd278"
      },
      "source": [
        "img.shape"
      ],
      "execution_count": null,
      "outputs": [
        {
          "output_type": "execute_result",
          "data": {
            "text/plain": [
              "(1, 224, 224, 3)"
            ]
          },
          "metadata": {
            "tags": []
          },
          "execution_count": 27
        }
      ]
    },
    {
      "cell_type": "code",
      "metadata": {
        "id": "f4rcGuf70N8m"
      },
      "source": [
        "labels={'Acne': 0,\n",
        "  'Contact dermatitis': 1,\n",
        "  'Hives': 2,\n",
        "  'Melanoma': 3,\n",
        "  'Nevus': 4,\n",
        "  'Psoriasis': 5,\n",
        "  'Ringworm': 6,\n",
        "  'Scabies': 7,\n",
        "  'Seborrhic kertosis': 8,\n",
        "  'Wart': 9}\n"
      ],
      "execution_count": null,
      "outputs": []
    },
    {
      "cell_type": "code",
      "metadata": {
        "id": "1KIDpi462XOy"
      },
      "source": [
        "result=model.predict(img)"
      ],
      "execution_count": null,
      "outputs": []
    },
    {
      "cell_type": "code",
      "metadata": {
        "colab": {
          "base_uri": "https://localhost:8080/"
        },
        "id": "t_lQbTgK00M9",
        "outputId": "4e7f6eb3-cded-430b-fd5b-73c9bada801b"
      },
      "source": [
        "for i in labels:\n",
        "    if np.argmax(result)==labels[i]:\n",
        "        print('dicteted Disorder is =>',i)\n"
      ],
      "execution_count": null,
      "outputs": [
        {
          "output_type": "stream",
          "text": [
            "dicteted Disorder is => Acne\n"
          ],
          "name": "stdout"
        }
      ]
    },
    {
      "cell_type": "code",
      "metadata": {
        "id": "pmdhHhU92QAM"
      },
      "source": [
        "model.save(\"/content/drive/MyDrive/programme files/DSmajorPROJECT/projectbasicmodel.h5\")"
      ],
      "execution_count": null,
      "outputs": []
    },
    {
      "cell_type": "code",
      "metadata": {
        "colab": {
          "base_uri": "https://localhost:8080/"
        },
        "id": "PPlwuHURJjiI",
        "outputId": "bf0f04d0-3f9c-4d65-9f90-7ae3d0888644"
      },
      "source": [
        "img=load_img(\"/content/download (4).jpg\",target_size=(224,224))\n",
        "img=img_to_array(img).reshape(1,224,224,3)\n",
        "result=model.predict(img)\n",
        "for i in labels:\n",
        "    if np.argmax(result)==labels[i]:\n",
        "        print('dicteted Disorder is =>',i)\n",
        "\n"
      ],
      "execution_count": null,
      "outputs": [
        {
          "output_type": "stream",
          "text": [
            "dicteted Disorder is => Acne\n"
          ],
          "name": "stdout"
        }
      ]
    },
    {
      "cell_type": "code",
      "metadata": {
        "id": "J8mSMX9qKg1Z"
      },
      "source": [
        ""
      ],
      "execution_count": null,
      "outputs": []
    }
  ]
}